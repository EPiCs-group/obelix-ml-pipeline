{
 "cells": [
  {
   "cell_type": "code",
   "execution_count": 1,
   "id": "2cc580b7",
   "metadata": {},
   "outputs": [],
   "source": [
    "import pandas as pd"
   ]
  },
  {
   "cell_type": "code",
   "execution_count": 24,
   "id": "390d6152",
   "metadata": {},
   "outputs": [],
   "source": [
    "AVAILABLE_LIGAND_REPRESENTATION_TYPES = ['dft_nbd_model', \n",
    "                                         'dft_nbd_model_with_solvation', \n",
    "                                         'dl_chylon', \n",
    "                                         'ecfp',\n",
    "                                         'sigmangroup',\n",
    "                                         'ohe']"
   ]
  },
  {
   "cell_type": "code",
   "execution_count": 62,
   "id": "de9737fd",
   "metadata": {},
   "outputs": [
    {
     "name": "stdout",
     "output_type": "stream",
     "text": [
      "False\n",
      "False\n",
      "False\n",
      "False\n"
     ]
    }
   ],
   "source": [
    "set_ligands = set([f'L{i}' for i in range(1,193)])\n",
    "for i in AVAILABLE_LIGAND_REPRESENTATION_TYPES[2:]:\n",
    "    tmp_df = pd.read_csv(f'ligands_{i}.csv', sep=';|,', engine='python')\n",
    "    print(tmp_df.isnull().values.any())\n",
    "    set_ligands = set_ligands.intersection(set(tmp_df['Ligand#']))\n",
    "    \n",
    "for i in AVAILABLE_LIGAND_REPRESENTATION_TYPES[:2]:\n",
    "    tmp_df = pd.read_csv(f'ligands_{i}.csv', sep=',').dropna(axis = 0)\n",
    "    tmp_df = tmp_df[tmp_df['Ligand#'].isin(set_ligands)]\n",
    "    set_ligands = set_ligands.intersection(set(tmp_df['Ligand#']))"
   ]
  },
  {
   "cell_type": "code",
   "execution_count": 59,
   "id": "59973d97",
   "metadata": {},
   "outputs": [
    {
     "data": {
      "text/plain": [
       "98"
      ]
     },
     "execution_count": 59,
     "metadata": {},
     "output_type": "execute_result"
    }
   ],
   "source": [
    "len(set_ligands)"
   ]
  },
  {
   "cell_type": "code",
   "execution_count": 60,
   "id": "2fd3de2d",
   "metadata": {},
   "outputs": [
    {
     "name": "stdout",
     "output_type": "stream",
     "text": [
      "False\n",
      "False\n",
      "False\n",
      "False\n"
     ]
    }
   ],
   "source": [
    "for i in AVAILABLE_LIGAND_REPRESENTATION_TYPES[2:]:\n",
    "    tmp_df = pd.read_csv(f'ligands_{i}.csv', sep=';|,', engine='python')\n",
    "    tmp_df = tmp_df[tmp_df['Ligand#'].isin(set_ligands)]\n",
    "    tmp_df = tmp_df.loc[:, (tmp_df != tmp_df.iloc[0]).any()] \n",
    "    tmp_df.to_csv(f'ligands_{i}_fairsubset.csv', sep=';', index =False)\n",
    "    print(tmp_df.isnull().values.any())"
   ]
  },
  {
   "cell_type": "code",
   "execution_count": 61,
   "id": "525ce48a",
   "metadata": {},
   "outputs": [
    {
     "name": "stdout",
     "output_type": "stream",
     "text": [
      "False\n",
      "False\n"
     ]
    }
   ],
   "source": [
    "for i in AVAILABLE_LIGAND_REPRESENTATION_TYPES[:2]:\n",
    "    tmp_df = pd.read_csv(f'ligands_{i}.csv', sep=',').dropna(axis = 0)\n",
    "    tmp_df = tmp_df[tmp_df['Ligand#'].isin(set_ligands)]\n",
    "    tmp_df = tmp_df.loc[:, (tmp_df != tmp_df.iloc[0]).any()] \n",
    "    tmp_df.to_csv(f'ligands_{i}_fairsubset.csv', sep=';', index =False)\n",
    "    print(tmp_df.isnull().values.any())"
   ]
  },
  {
   "cell_type": "code",
   "execution_count": null,
   "id": "8b6d819a",
   "metadata": {},
   "outputs": [],
   "source": []
  }
 ],
 "metadata": {
  "kernelspec": {
   "display_name": "Python [conda env:obelix]",
   "language": "python",
   "name": "conda-env-obelix-py"
  },
  "language_info": {
   "codemirror_mode": {
    "name": "ipython",
    "version": 3
   },
   "file_extension": ".py",
   "mimetype": "text/x-python",
   "name": "python",
   "nbconvert_exporter": "python",
   "pygments_lexer": "ipython3",
   "version": "3.10.5"
  }
 },
 "nbformat": 4,
 "nbformat_minor": 5
}
