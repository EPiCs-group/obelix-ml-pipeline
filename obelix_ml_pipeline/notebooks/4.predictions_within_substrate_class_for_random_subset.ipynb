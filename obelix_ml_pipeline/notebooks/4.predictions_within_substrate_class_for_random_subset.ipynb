{
 "cells": [
  {
   "cell_type": "code",
   "execution_count": 2,
   "metadata": {
    "ExecuteTime": {
     "end_time": "2023-05-02T11:01:00.078555Z",
     "start_time": "2023-05-02T11:00:59.718864Z"
    },
    "jupyter": {
     "outputs_hidden": false
    }
   },
   "outputs": [
    {
     "name": "stderr",
     "output_type": "stream",
     "text": [
      "Intel(R) Extension for Scikit-learn* enabled (https://github.com/intel/scikit-learn-intelex)\n"
     ]
    }
   ],
   "source": [
    "# import this to use Intel optimized sklearn if available\n",
    "from sklearnex import patch_sklearn\n",
    "patch_sklearn()"
   ]
  },
  {
   "cell_type": "code",
   "execution_count": 3,
   "metadata": {
    "ExecuteTime": {
     "end_time": "2023-05-02T11:06:05.317410Z",
     "start_time": "2023-05-02T11:06:05.231739Z"
    },
    "jupyter": {
     "outputs_hidden": false
    }
   },
   "outputs": [],
   "source": [
    "import pandas as pd\n",
    "import numpy as np\n",
    "import matplotlib.pyplot as plt\n",
    "from sklearn.ensemble import ExtraTreesRegressor,ExtraTreesClassifier\n",
    "from sklearn.metrics import r2_score,mean_absolute_error,mean_squared_error, balanced_accuracy_score\n",
    "from rdkit import Chem\n",
    "from rdkit.Chem import Draw\n",
    "\n",
    "from scipy.spatial.distance import pdist, squareform\n",
    "from sklearn.model_selection import train_test_split\n",
    "from sklearn.model_selection import GridSearchCV, RandomizedSearchCV\n",
    "from sklearn.model_selection import KFold\n",
    "\n",
    "from sklearn.linear_model import LogisticRegression, LinearRegression\n",
    "from sklearn.tree import DecisionTreeClassifier,DecisionTreeRegressor\n",
    "from sklearn.cross_decomposition import PLSRegression\n",
    "from sklearn.ensemble import RandomForestRegressor\n",
    "from sklearn.linear_model import LinearRegression"
   ]
  },
  {
   "cell_type": "code",
   "execution_count": 4,
   "metadata": {
    "ExecuteTime": {
     "end_time": "2023-05-02T11:06:05.627975Z",
     "start_time": "2023-05-02T11:06:05.543874Z"
    },
    "jupyter": {
     "outputs_hidden": false
    }
   },
   "outputs": [
    {
     "name": "stdout",
     "output_type": "stream",
     "text": [
      "Number of CPUs in the system: 8\n"
     ]
    }
   ],
   "source": [
    "import os\n",
    "path_to_figure_folder = os.path.join(os.getcwd(), 'figures/predictions_on_unseen_substrate')\n",
    "n_cpu = os.cpu_count()\n",
    "print(\"Number of CPUs in the system:\", n_cpu)"
   ]
  },
  {
   "cell_type": "markdown",
   "metadata": {},
   "source": [
    "# Objective 4: Predictions within a substrate class, but iteratively a smaller subset of ligands is selected so we can see the effect on the performance of the model\n",
    "\n",
    "This case is mainly focused on regression models, since we wanted to investigate the bad performance"
   ]
  },
  {
   "cell_type": "markdown",
   "metadata": {},
   "source": [
    "## Example application of pipeline"
   ]
  },
  {
   "cell_type": "code",
   "execution_count": null,
   "metadata": {
    "ExecuteTime": {
     "end_time": "2023-05-02T11:08:58.551451Z",
     "start_time": "2023-05-02T11:06:45.526210Z"
    },
    "jupyter": {
     "outputs_hidden": false
    }
   },
   "outputs": [],
   "source": [
    "# try regression with loaded representations\n",
    "selected_ligand_representations = ['dft_nbd_model']\n",
    "target = 'DDG'\n",
    "target_threshold = None\n",
    "rf_model = RandomForestRegressor(random_state=42)\n",
    "scoring = 'r2'\n",
    "train_splits = 5\n",
    "n_jobs = int(n_cpu*0.8)  # using 0.8 of the available CPUs for parallelization\n",
    "binary = False\n",
    "plot_dendrograms = False\n",
    "substrate_names_column = 'Substrate'\n",
    "ligand_numbers_column = 'Ligand#'\n",
    "selected_substrate = 'SM1'\n",
    "training_size = 0.8  # 80% of data for subset substrate is used for training\n",
    "\n",
    "subset_random_seeds = np.arange(0, 10, 1)  # 10 different random seeds for selecting a random subset of the data\n",
    "print_ml_results = True\n",
    "reduce_train_test_data_dimensionality = False\n",
    "transformer = None\n",
    "performance_threshold = 0.75  # loop of decreasing subset size and trying random seeds is stopped when performance is above this threshold\n",
    "\n",
    "print('Training and testing regression')\n",
    "print(f'Test size: {1/train_splits}')\n",
    "res = predict_within_substrate_class_for_random_subset(selected_ligand_representations,\n",
    "                                ligand_numbers_column, substrate_names_column, target, target_threshold, train_splits, binary,\n",
    "                                selected_substrate, training_size, rf_model, scoring, print_ml_results, n_jobs, subset_random_seeds, performance_threshold, plot_dendrograms, reduce_train_test_data_dimensionality, transformer)"
   ]
  },
  {
   "cell_type": "code",
   "execution_count": null,
   "metadata": {
    "ExecuteTime": {
     "end_time": "2023-05-02T11:08:58.877669Z",
     "start_time": "2023-05-02T11:08:58.551451Z"
    },
    "jupyter": {
     "outputs_hidden": false
    }
   },
   "outputs": [],
   "source": [
    "res.fig_fi"
   ]
  },
  {
   "cell_type": "code",
   "execution_count": null,
   "metadata": {
    "ExecuteTime": {
     "end_time": "2023-05-02T11:08:58.900670Z",
     "start_time": "2023-05-02T11:08:58.877669Z"
    },
    "jupyter": {
     "outputs_hidden": false
    }
   },
   "outputs": [],
   "source": [
    "print(res.testing_performance_test)"
   ]
  }
 ],
 "metadata": {
  "kernelspec": {
   "display_name": "Python 3 (ipykernel)",
   "language": "python",
   "name": "python3"
  },
  "language_info": {
   "codemirror_mode": {
    "name": "ipython",
    "version": 3
   },
   "file_extension": ".py",
   "mimetype": "text/x-python",
   "name": "python",
   "nbconvert_exporter": "python",
   "pygments_lexer": "ipython3",
   "version": "3.10.5"
  }
 },
 "nbformat": 4,
 "nbformat_minor": 4
}
