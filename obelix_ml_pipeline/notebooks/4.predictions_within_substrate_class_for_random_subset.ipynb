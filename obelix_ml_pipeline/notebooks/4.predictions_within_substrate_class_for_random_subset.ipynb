{
 "cells": [
  {
   "cell_type": "code",
   "execution_count": null,
   "metadata": {
    "collapsed": true
   },
   "outputs": [],
   "source": [
    "import sys\n",
    "sys.path.append('../../')"
   ]
  },
  {
   "cell_type": "code",
   "execution_count": null,
   "outputs": [],
   "source": [
    "# import this to use Intel optimized sklearn if available\n",
    "from sklearnex import patch_sklearn\n",
    "patch_sklearn()"
   ],
   "metadata": {
    "collapsed": false,
    "ExecuteTime": {
     "start_time": "2023-05-02T11:00:59.718864Z",
     "end_time": "2023-05-02T11:01:00.078555Z"
    }
   }
  },
  {
   "cell_type": "code",
   "execution_count": null,
   "outputs": [],
   "source": [
    "from obelix_ml_pipeline.predictions_within_substrate_class_for_random_subset import predict_within_substrate_class_for_random_subset\n",
    "from obelix_ml_pipeline.representation_variables import AVAILABLE_LIGAND_REPRESENTATION_TYPES, AVAILABLE_SUBSTRATE_REPRESENTATION_TYPES\n",
    "import pandas as pd\n",
    "import numpy as np\n",
    "from sklearn.ensemble import RandomForestClassifier, RandomForestRegressor\n",
    "from sklearn.decomposition import PCA\n",
    "import matplotlib.pyplot as plt\n",
    "import seaborn as sns\n",
    "\n",
    "%load_ext autoreload\n",
    "%autoreload 2"
   ],
   "metadata": {
    "collapsed": false,
    "ExecuteTime": {
     "start_time": "2023-05-02T11:06:05.231739Z",
     "end_time": "2023-05-02T11:06:05.317410Z"
    }
   }
  },
  {
   "cell_type": "code",
   "execution_count": null,
   "outputs": [],
   "source": [
    "import os\n",
    "path_to_figure_folder = os.path.join(os.getcwd(), 'figures/predictions_on_unseen_substrate')\n",
    "n_cpu = os.cpu_count()\n",
    "print(\"Number of CPUs in the system:\", n_cpu)"
   ],
   "metadata": {
    "collapsed": false,
    "ExecuteTime": {
     "start_time": "2023-05-02T11:06:05.543874Z",
     "end_time": "2023-05-02T11:06:05.627975Z"
    }
   }
  },
  {
   "cell_type": "markdown",
   "source": [
    "# Objective 4: Predictions within a substrate class, but iteratively a smaller subset of ligands is selected so we can see the effect on the performance of the model\n",
    "\n",
    "This case is mainly focused on regression models, since we wanted to investigate the bad performance"
   ],
   "metadata": {
    "collapsed": false
   }
  },
  {
   "cell_type": "markdown",
   "source": [
    "## Example application of pipeline"
   ],
   "metadata": {
    "collapsed": false
   }
  },
  {
   "cell_type": "code",
   "execution_count": null,
   "outputs": [],
   "source": [
    "# try regression with loaded representations\n",
    "selected_ligand_representations = ['dft_nbd_model']\n",
    "target = 'DDG'\n",
    "target_threshold = None\n",
    "rf_model = RandomForestRegressor(random_state=42)\n",
    "scoring = 'r2'\n",
    "train_splits = 5\n",
    "n_jobs = int(n_cpu*0.8)  # using 0.8 of the available CPUs for parallelization\n",
    "binary = False\n",
    "plot_dendrograms = False\n",
    "substrate_names_column = 'Substrate'\n",
    "ligand_numbers_column = 'Ligand#'\n",
    "selected_substrate = 'SM1'\n",
    "training_size = 0.8  # 80% of data for subset substrate is used for training\n",
    "\n",
    "subset_random_seeds = np.arange(0, 10, 1)  # 10 different random seeds for selecting a random subset of the data\n",
    "print_ml_results = True\n",
    "reduce_train_test_data_dimensionality = False\n",
    "transformer = None\n",
    "performance_threshold = 0.75  # loop of decreasing subset size and trying random seeds is stopped when performance is above this threshold\n",
    "\n",
    "print('Training and testing regression')\n",
    "print(f'Test size: {1/train_splits}')\n",
    "res = predict_within_substrate_class_for_random_subset(selected_ligand_representations,\n",
    "                                ligand_numbers_column, substrate_names_column, target, target_threshold, train_splits, binary,\n",
    "                                selected_substrate, training_size, rf_model, scoring, print_ml_results, n_jobs, subset_random_seeds, performance_threshold, plot_dendrograms, reduce_train_test_data_dimensionality, transformer)"
   ],
   "metadata": {
    "collapsed": false,
    "ExecuteTime": {
     "start_time": "2023-05-02T11:06:45.526210Z",
     "end_time": "2023-05-02T11:08:58.551451Z"
    }
   }
  },
  {
   "cell_type": "code",
   "execution_count": null,
   "outputs": [],
   "source": [
    "res.fig_fi"
   ],
   "metadata": {
    "collapsed": false,
    "ExecuteTime": {
     "start_time": "2023-05-02T11:08:58.551451Z",
     "end_time": "2023-05-02T11:08:58.877669Z"
    }
   }
  },
  {
   "cell_type": "code",
   "execution_count": null,
   "outputs": [],
   "source": [
    "print(res.testing_performance_test)"
   ],
   "metadata": {
    "collapsed": false,
    "ExecuteTime": {
     "start_time": "2023-05-02T11:08:58.877669Z",
     "end_time": "2023-05-02T11:08:58.900670Z"
    }
   }
  },
  {
   "cell_type": "code",
   "execution_count": null,
   "outputs": [],
   "source": [],
   "metadata": {
    "collapsed": false
   }
  }
 ],
 "metadata": {
  "kernelspec": {
   "display_name": "Python 3",
   "language": "python",
   "name": "python3"
  },
  "language_info": {
   "codemirror_mode": {
    "name": "ipython",
    "version": 2
   },
   "file_extension": ".py",
   "mimetype": "text/x-python",
   "name": "python",
   "nbconvert_exporter": "python",
   "pygments_lexer": "ipython2",
   "version": "2.7.6"
  }
 },
 "nbformat": 4,
 "nbformat_minor": 0
}
